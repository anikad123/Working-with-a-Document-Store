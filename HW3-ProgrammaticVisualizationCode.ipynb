{
 "cells": [
  {
   "cell_type": "code",
   "execution_count": 1,
   "metadata": {},
   "outputs": [],
   "source": [
    "# imports\n",
    "import pymongo\n",
    "import pandas as pd\n",
    "import json\n",
    "import pprint\n",
    "import matplotlib.pyplot as plt"
   ]
  },
  {
   "cell_type": "code",
   "execution_count": 2,
   "metadata": {},
   "outputs": [],
   "source": [
    "from pymongo import MongoClient"
   ]
  },
  {
   "cell_type": "code",
   "execution_count": 3,
   "metadata": {},
   "outputs": [],
   "source": [
    "# set up client \n",
    "client = MongoClient()"
   ]
  },
  {
   "cell_type": "code",
   "execution_count": 4,
   "metadata": {},
   "outputs": [],
   "source": [
    "db = client.food"
   ]
  },
  {
   "cell_type": "code",
   "execution_count": 5,
   "metadata": {},
   "outputs": [
    {
     "name": "stdout",
     "output_type": "stream",
     "text": [
      "Database(MongoClient(host=['localhost:27017'], document_class=dict, tz_aware=False, connect=True), 'food')\n"
     ]
    }
   ],
   "source": [
    "print (db)"
   ]
  },
  {
   "cell_type": "code",
   "execution_count": 6,
   "metadata": {},
   "outputs": [],
   "source": [
    "# set collection to restaurant \n",
    "collection = db.rest"
   ]
  },
  {
   "cell_type": "code",
   "execution_count": 7,
   "metadata": {},
   "outputs": [
    {
     "name": "stdout",
     "output_type": "stream",
     "text": [
      "Collection(Database(MongoClient(host=['localhost:27017'], document_class=dict, tz_aware=False, connect=True), 'food'), 'rest')\n"
     ]
    }
   ],
   "source": [
    "print (collection)"
   ]
  },
  {
   "cell_type": "code",
   "execution_count": 8,
   "metadata": {},
   "outputs": [],
   "source": [
    "# program to query Mongo programmatically\n",
    "# American restaurants in Brooklyn with a score greater than 30\n",
    "BrooklynAmericanRestaurantsOver30 = collection.find({\"cuisine\":\"American\",\"borough\":\"Brooklyn\", \"grades.0.score\":{\"$gt\":30}})"
   ]
  },
  {
   "cell_type": "code",
   "execution_count": 9,
   "metadata": {},
   "outputs": [],
   "source": [
    "# add all restaurants from previous query to a list\n",
    "Restaurants = []\n",
    "for x in BrooklynAmericanRestaurantsOver30:\n",
    "    Restaurants.append(x)"
   ]
  },
  {
   "cell_type": "code",
   "execution_count": 10,
   "metadata": {},
   "outputs": [
    {
     "data": {
      "text/plain": [
       "[{'_id': ObjectId('62211e0487c5fc662953e1c1'),\n",
       "  'address': {'building': '147',\n",
       "   'coord': [-74.00070500000001, 40.660545],\n",
       "   'street': '27 Street',\n",
       "   'zipcode': '11232'},\n",
       "  'borough': 'Brooklyn',\n",
       "  'cuisine': 'American',\n",
       "  'grades': [{'date': datetime.datetime(2014, 10, 22, 0, 0),\n",
       "    'grade': 'C',\n",
       "    'score': 31},\n",
       "   {'date': datetime.datetime(2014, 5, 16, 0, 0), 'grade': 'A', 'score': 7},\n",
       "   {'date': datetime.datetime(2013, 11, 20, 0, 0), 'grade': 'A', 'score': 7},\n",
       "   {'date': datetime.datetime(2013, 4, 9, 0, 0), 'grade': 'B', 'score': 27},\n",
       "   {'date': datetime.datetime(2012, 10, 18, 0, 0), 'grade': 'A', 'score': 13},\n",
       "   {'date': datetime.datetime(2012, 5, 16, 0, 0), 'grade': 'B', 'score': 25}],\n",
       "  'name': 'Quick Stop Restaurant',\n",
       "  'restaurant_id': '40401019'},\n",
       " {'_id': ObjectId('62211e0487c5fc662953ea8c'),\n",
       "  'address': {'building': '8801',\n",
       "   'coord': [-74.0314075, 40.6218809],\n",
       "   'street': '3 Avenue',\n",
       "   'zipcode': '11209'},\n",
       "  'borough': 'Brooklyn',\n",
       "  'cuisine': 'American',\n",
       "  'grades': [{'date': datetime.datetime(2014, 12, 13, 0, 0),\n",
       "    'grade': 'Z',\n",
       "    'score': 43},\n",
       "   {'date': datetime.datetime(2014, 5, 1, 0, 0), 'grade': 'A', 'score': 8},\n",
       "   {'date': datetime.datetime(2013, 4, 10, 0, 0), 'grade': 'A', 'score': 9},\n",
       "   {'date': datetime.datetime(2012, 9, 5, 0, 0), 'grade': 'A', 'score': 12},\n",
       "   {'date': datetime.datetime(2012, 4, 11, 0, 0), 'grade': 'A', 'score': 12}],\n",
       "  'name': 'Cebu',\n",
       "  'restaurant_id': '40859014'},\n",
       " {'_id': ObjectId('62211e0487c5fc662953fb84'),\n",
       "  'address': {'building': '108',\n",
       "   'coord': [-73.960308, 40.718229],\n",
       "   'street': 'North    6 Street',\n",
       "   'zipcode': '11249'},\n",
       "  'borough': 'Brooklyn',\n",
       "  'cuisine': 'American',\n",
       "  'grades': [{'date': datetime.datetime(2014, 11, 20, 0, 0),\n",
       "    'grade': 'C',\n",
       "    'score': 32},\n",
       "   {'date': datetime.datetime(2014, 5, 15, 0, 0), 'grade': 'A', 'score': 10},\n",
       "   {'date': datetime.datetime(2013, 9, 12, 0, 0), 'grade': 'A', 'score': 11},\n",
       "   {'date': datetime.datetime(2013, 3, 14, 0, 0), 'grade': 'B', 'score': 20},\n",
       "   {'date': datetime.datetime(2012, 8, 13, 0, 0), 'grade': 'A', 'score': 10}],\n",
       "  'name': 'This & That',\n",
       "  'restaurant_id': '41294998'},\n",
       " {'_id': ObjectId('62211e0487c5fc66295401d9'),\n",
       "  'address': {'building': '6',\n",
       "   'coord': [-73.9809756, 40.68877],\n",
       "   'street': 'Flatbush Avenue',\n",
       "   'zipcode': '11217'},\n",
       "  'borough': 'Brooklyn',\n",
       "  'cuisine': 'American',\n",
       "  'grades': [{'date': datetime.datetime(2014, 10, 9, 0, 0),\n",
       "    'grade': 'C',\n",
       "    'score': 51},\n",
       "   {'date': datetime.datetime(2014, 5, 8, 0, 0), 'grade': 'A', 'score': 7},\n",
       "   {'date': datetime.datetime(2013, 11, 19, 0, 0), 'grade': 'B', 'score': 18},\n",
       "   {'date': datetime.datetime(2013, 4, 4, 0, 0), 'grade': 'B', 'score': 14},\n",
       "   {'date': datetime.datetime(2012, 9, 25, 0, 0), 'grade': 'B', 'score': 26},\n",
       "   {'date': datetime.datetime(2012, 4, 19, 0, 0), 'grade': 'B', 'score': 24}],\n",
       "  'name': 'Fulton Grill',\n",
       "  'restaurant_id': '41389547'},\n",
       " {'_id': ObjectId('62211e0487c5fc66295404d1'),\n",
       "  'address': {'building': '109',\n",
       "   'coord': [-73.9641287, 40.7107237],\n",
       "   'street': 'South    6 Street',\n",
       "   'zipcode': '11249'},\n",
       "  'borough': 'Brooklyn',\n",
       "  'cuisine': 'American',\n",
       "  'grades': [{'date': datetime.datetime(2015, 1, 5, 0, 0),\n",
       "    'grade': 'Z',\n",
       "    'score': 35},\n",
       "   {'date': datetime.datetime(2014, 6, 26, 0, 0), 'grade': 'A', 'score': 10},\n",
       "   {'date': datetime.datetime(2013, 11, 20, 0, 0), 'grade': 'A', 'score': 13},\n",
       "   {'date': datetime.datetime(2013, 4, 24, 0, 0), 'grade': 'A', 'score': 12},\n",
       "   {'date': datetime.datetime(2012, 1, 12, 0, 0), 'grade': 'A', 'score': 5}],\n",
       "  'name': 'Gordon Bennett',\n",
       "  'restaurant_id': '41427008'},\n",
       " {'_id': ObjectId('62211e0487c5fc6629540535'),\n",
       "  'address': {'building': '9522',\n",
       "   'coord': [-74.03155509999999, 40.6155636],\n",
       "   'street': '4 Avenue',\n",
       "   'zipcode': '11209'},\n",
       "  'borough': 'Brooklyn',\n",
       "  'cuisine': 'American',\n",
       "  'grades': [{'date': datetime.datetime(2015, 1, 2, 0, 0),\n",
       "    'grade': 'Z',\n",
       "    'score': 31},\n",
       "   {'date': datetime.datetime(2014, 7, 9, 0, 0), 'grade': 'A', 'score': 10},\n",
       "   {'date': datetime.datetime(2014, 1, 29, 0, 0), 'grade': 'A', 'score': 7},\n",
       "   {'date': datetime.datetime(2013, 7, 24, 0, 0), 'grade': 'A', 'score': 10},\n",
       "   {'date': datetime.datetime(2013, 6, 24, 0, 0), 'grade': 'P', 'score': 11},\n",
       "   {'date': datetime.datetime(2013, 1, 9, 0, 0), 'grade': 'B', 'score': 18},\n",
       "   {'date': datetime.datetime(2012, 5, 10, 0, 0), 'grade': 'A', 'score': 7}],\n",
       "  'name': 'Energy Fuel',\n",
       "  'restaurant_id': '41431231'},\n",
       " {'_id': ObjectId('62211e0487c5fc6629540a2a'),\n",
       "  'address': {'building': '753',\n",
       "   'coord': [-73.9684436, 40.639036],\n",
       "   'street': 'Coney Island Avenue',\n",
       "   'zipcode': '11218'},\n",
       "  'borough': 'Brooklyn',\n",
       "  'cuisine': 'American',\n",
       "  'grades': [{'date': datetime.datetime(2014, 10, 29, 0, 0),\n",
       "    'grade': 'C',\n",
       "    'score': 40},\n",
       "   {'date': datetime.datetime(2014, 7, 1, 0, 0), 'grade': 'C', 'score': 31},\n",
       "   {'date': datetime.datetime(2014, 2, 28, 0, 0), 'grade': 'B', 'score': 26},\n",
       "   {'date': datetime.datetime(2013, 2, 13, 0, 0), 'grade': 'A', 'score': 10},\n",
       "   {'date': datetime.datetime(2012, 8, 13, 0, 0), 'grade': 'C', 'score': 76},\n",
       "   {'date': datetime.datetime(2012, 1, 25, 0, 0), 'grade': 'A', 'score': 5}],\n",
       "  'name': 'Georges Restaurant',\n",
       "  'restaurant_id': '41489694'},\n",
       " {'_id': ObjectId('62211e0487c5fc6629541e11'),\n",
       "  'address': {'building': '163',\n",
       "   'coord': [-73.9516337, 40.7116651],\n",
       "   'street': 'Hope Street',\n",
       "   'zipcode': '11211'},\n",
       "  'borough': 'Brooklyn',\n",
       "  'cuisine': 'American',\n",
       "  'grades': [{'date': datetime.datetime(2014, 11, 7, 0, 0),\n",
       "    'grade': 'Z',\n",
       "    'score': 36},\n",
       "   {'date': datetime.datetime(2014, 3, 20, 0, 0), 'grade': 'A', 'score': 11},\n",
       "   {'date': datetime.datetime(2012, 12, 14, 0, 0), 'grade': 'A', 'score': 9}],\n",
       "  'name': 'Hope Garage',\n",
       "  'restaurant_id': '41683141'},\n",
       " {'_id': ObjectId('62211e0487c5fc6629541fe2'),\n",
       "  'address': {'building': '364',\n",
       "   'coord': [-73.986417, 40.687238],\n",
       "   'street': 'Atlantic Avenue',\n",
       "   'zipcode': '11217'},\n",
       "  'borough': 'Brooklyn',\n",
       "  'cuisine': 'American',\n",
       "  'grades': [{'date': datetime.datetime(2014, 5, 22, 0, 0),\n",
       "    'grade': 'C',\n",
       "    'score': 35},\n",
       "   {'date': datetime.datetime(2013, 11, 1, 0, 0), 'grade': 'A', 'score': 9},\n",
       "   {'date': datetime.datetime(2013, 3, 27, 0, 0), 'grade': 'A', 'score': 12}],\n",
       "  'name': 'Krescendo',\n",
       "  'restaurant_id': '41695265'},\n",
       " {'_id': ObjectId('62211e0487c5fc6629542012'),\n",
       "  'address': {'building': '274',\n",
       "   'coord': [-73.98448069999999, 40.6759631],\n",
       "   'street': '4 Avenue',\n",
       "   'zipcode': '11215'},\n",
       "  'borough': 'Brooklyn',\n",
       "  'cuisine': 'American',\n",
       "  'grades': [{'date': datetime.datetime(2014, 8, 20, 0, 0),\n",
       "    'grade': 'C',\n",
       "    'score': 38},\n",
       "   {'date': datetime.datetime(2013, 12, 17, 0, 0), 'grade': 'A', 'score': 4}],\n",
       "  'name': 'Breuckelen Colony',\n",
       "  'restaurant_id': '41696147'},\n",
       " {'_id': ObjectId('62211e0487c5fc66295422f8'),\n",
       "  'address': {'building': '8703',\n",
       "   'coord': [-74.0266106, 40.620672],\n",
       "   'street': '5 Avenue',\n",
       "   'zipcode': '11209'},\n",
       "  'borough': 'Brooklyn',\n",
       "  'cuisine': 'American',\n",
       "  'grades': [{'date': datetime.datetime(2014, 8, 27, 0, 0),\n",
       "    'grade': 'C',\n",
       "    'score': 39},\n",
       "   {'date': datetime.datetime(2013, 12, 7, 0, 0), 'grade': 'A', 'score': 13},\n",
       "   {'date': datetime.datetime(2013, 5, 20, 0, 0), 'grade': 'A', 'score': 10}],\n",
       "  'name': 'Lone Star Bar & Grill',\n",
       "  'restaurant_id': '41709379'},\n",
       " {'_id': ObjectId('62211e0487c5fc66295426e6'),\n",
       "  'address': {'building': '2770',\n",
       "   'coord': [-73.8920089, 40.6760815],\n",
       "   'street': 'Atlantic Avenue',\n",
       "   'zipcode': '11207'},\n",
       "  'borough': 'Brooklyn',\n",
       "  'cuisine': 'American',\n",
       "  'grades': [{'date': datetime.datetime(2015, 1, 3, 0, 0),\n",
       "    'grade': 'Z',\n",
       "    'score': 53},\n",
       "   {'date': datetime.datetime(2013, 8, 16, 0, 0), 'grade': 'B', 'score': 21}],\n",
       "  'name': 'Zamba Rios',\n",
       "  'restaurant_id': '50000604'},\n",
       " {'_id': ObjectId('62211e0487c5fc6629542913'),\n",
       "  'address': {'building': '4922',\n",
       "   'coord': [-73.998425, 40.638131],\n",
       "   'street': 'Fort Hamilton Parkway',\n",
       "   'zipcode': '11219'},\n",
       "  'borough': 'Brooklyn',\n",
       "  'cuisine': 'American',\n",
       "  'grades': [{'date': datetime.datetime(2014, 10, 30, 0, 0),\n",
       "    'grade': 'C',\n",
       "    'score': 31},\n",
       "   {'date': datetime.datetime(2013, 10, 31, 0, 0), 'grade': 'A', 'score': 12}],\n",
       "  'name': 'Mixxed Grill And Juice Bar',\n",
       "  'restaurant_id': '50001585'},\n",
       " {'_id': ObjectId('62211e0487c5fc6629542a7e'),\n",
       "  'address': {'building': '375',\n",
       "   'coord': [-73.9844202, 40.67103950000001],\n",
       "   'street': '5 Avenue',\n",
       "   'zipcode': '11215'},\n",
       "  'borough': 'Brooklyn',\n",
       "  'cuisine': 'American',\n",
       "  'grades': [{'date': datetime.datetime(2014, 11, 18, 0, 0),\n",
       "    'grade': 'Z',\n",
       "    'score': 49},\n",
       "   {'date': datetime.datetime(2013, 9, 6, 0, 0), 'grade': 'A', 'score': 9}],\n",
       "  'name': 'Bar Reis',\n",
       "  'restaurant_id': '50002249'},\n",
       " {'_id': ObjectId('62211e0587c5fc66295435a0'),\n",
       "  'address': {'building': '470',\n",
       "   'coord': [-73.9502179, 40.68269470000001],\n",
       "   'street': 'Nostrand Avenue',\n",
       "   'zipcode': '11216'},\n",
       "  'borough': 'Brooklyn',\n",
       "  'cuisine': 'American',\n",
       "  'grades': [{'date': datetime.datetime(2014, 8, 21, 0, 0),\n",
       "    'grade': 'C',\n",
       "    'score': 41}],\n",
       "  'name': 'Crown Chicken Pizza & Coffee Shop',\n",
       "  'restaurant_id': '50011140'},\n",
       " {'_id': ObjectId('62211e0587c5fc6629543a01'),\n",
       "  'address': {'building': '644',\n",
       "   'coord': [-73.983603, 40.67816699999999],\n",
       "   'street': 'Sackett Street',\n",
       "   'zipcode': '11217'},\n",
       "  'borough': 'Brooklyn',\n",
       "  'cuisine': 'American',\n",
       "  'grades': [{'date': datetime.datetime(2015, 1, 20, 0, 0),\n",
       "    'grade': 'Not Yet Graded',\n",
       "    'score': 36}],\n",
       "  'name': 'Lucky 13 Saloon',\n",
       "  'restaurant_id': '50015155'},\n",
       " {'_id': ObjectId('62211e0587c5fc6629543c7c'),\n",
       "  'address': {'building': '632',\n",
       "   'coord': [-73.950664, 40.724022],\n",
       "   'street': 'Manhattan Avenue',\n",
       "   'zipcode': '11222'},\n",
       "  'borough': 'Brooklyn',\n",
       "  'cuisine': 'American',\n",
       "  'grades': [{'date': datetime.datetime(2014, 12, 31, 0, 0),\n",
       "    'grade': 'Z',\n",
       "    'score': 40}],\n",
       "  'name': 'The Manhattan Inn',\n",
       "  'restaurant_id': '50016984'}]"
      ]
     },
     "execution_count": 10,
     "metadata": {},
     "output_type": "execute_result"
    }
   ],
   "source": [
    "# list of American restaurants in Brooklyn with a score greater than 30\n",
    "Restaurants"
   ]
  },
  {
   "cell_type": "code",
   "execution_count": 11,
   "metadata": {},
   "outputs": [
    {
     "data": {
      "text/plain": [
       "17"
      ]
     },
     "execution_count": 11,
     "metadata": {},
     "output_type": "execute_result"
    }
   ],
   "source": [
    "# length of list of restaurants\n",
    "len(Restaurants)"
   ]
  },
  {
   "cell_type": "code",
   "execution_count": 12,
   "metadata": {},
   "outputs": [],
   "source": [
    "# create dataframe from list of restaurants \n",
    "df_rest = pd.DataFrame(Restaurants)"
   ]
  },
  {
   "cell_type": "code",
   "execution_count": 13,
   "metadata": {},
   "outputs": [
    {
     "data": {
      "text/html": [
       "<div>\n",
       "<style scoped>\n",
       "    .dataframe tbody tr th:only-of-type {\n",
       "        vertical-align: middle;\n",
       "    }\n",
       "\n",
       "    .dataframe tbody tr th {\n",
       "        vertical-align: top;\n",
       "    }\n",
       "\n",
       "    .dataframe thead th {\n",
       "        text-align: right;\n",
       "    }\n",
       "</style>\n",
       "<table border=\"1\" class=\"dataframe\">\n",
       "  <thead>\n",
       "    <tr style=\"text-align: right;\">\n",
       "      <th></th>\n",
       "      <th>_id</th>\n",
       "      <th>address</th>\n",
       "      <th>borough</th>\n",
       "      <th>cuisine</th>\n",
       "      <th>grades</th>\n",
       "      <th>name</th>\n",
       "      <th>restaurant_id</th>\n",
       "    </tr>\n",
       "  </thead>\n",
       "  <tbody>\n",
       "    <tr>\n",
       "      <th>0</th>\n",
       "      <td>62211e0487c5fc662953e1c1</td>\n",
       "      <td>{'building': '147', 'coord': [-74.000705000000...</td>\n",
       "      <td>Brooklyn</td>\n",
       "      <td>American</td>\n",
       "      <td>[{'date': 2014-10-22 00:00:00, 'grade': 'C', '...</td>\n",
       "      <td>Quick Stop Restaurant</td>\n",
       "      <td>40401019</td>\n",
       "    </tr>\n",
       "    <tr>\n",
       "      <th>1</th>\n",
       "      <td>62211e0487c5fc662953ea8c</td>\n",
       "      <td>{'building': '8801', 'coord': [-74.0314075, 40...</td>\n",
       "      <td>Brooklyn</td>\n",
       "      <td>American</td>\n",
       "      <td>[{'date': 2014-12-13 00:00:00, 'grade': 'Z', '...</td>\n",
       "      <td>Cebu</td>\n",
       "      <td>40859014</td>\n",
       "    </tr>\n",
       "    <tr>\n",
       "      <th>2</th>\n",
       "      <td>62211e0487c5fc662953fb84</td>\n",
       "      <td>{'building': '108', 'coord': [-73.960308, 40.7...</td>\n",
       "      <td>Brooklyn</td>\n",
       "      <td>American</td>\n",
       "      <td>[{'date': 2014-11-20 00:00:00, 'grade': 'C', '...</td>\n",
       "      <td>This &amp; That</td>\n",
       "      <td>41294998</td>\n",
       "    </tr>\n",
       "    <tr>\n",
       "      <th>3</th>\n",
       "      <td>62211e0487c5fc66295401d9</td>\n",
       "      <td>{'building': '6', 'coord': [-73.9809756, 40.68...</td>\n",
       "      <td>Brooklyn</td>\n",
       "      <td>American</td>\n",
       "      <td>[{'date': 2014-10-09 00:00:00, 'grade': 'C', '...</td>\n",
       "      <td>Fulton Grill</td>\n",
       "      <td>41389547</td>\n",
       "    </tr>\n",
       "    <tr>\n",
       "      <th>4</th>\n",
       "      <td>62211e0487c5fc66295404d1</td>\n",
       "      <td>{'building': '109', 'coord': [-73.9641287, 40....</td>\n",
       "      <td>Brooklyn</td>\n",
       "      <td>American</td>\n",
       "      <td>[{'date': 2015-01-05 00:00:00, 'grade': 'Z', '...</td>\n",
       "      <td>Gordon Bennett</td>\n",
       "      <td>41427008</td>\n",
       "    </tr>\n",
       "    <tr>\n",
       "      <th>5</th>\n",
       "      <td>62211e0487c5fc6629540535</td>\n",
       "      <td>{'building': '9522', 'coord': [-74.03155509999...</td>\n",
       "      <td>Brooklyn</td>\n",
       "      <td>American</td>\n",
       "      <td>[{'date': 2015-01-02 00:00:00, 'grade': 'Z', '...</td>\n",
       "      <td>Energy Fuel</td>\n",
       "      <td>41431231</td>\n",
       "    </tr>\n",
       "    <tr>\n",
       "      <th>6</th>\n",
       "      <td>62211e0487c5fc6629540a2a</td>\n",
       "      <td>{'building': '753', 'coord': [-73.9684436, 40....</td>\n",
       "      <td>Brooklyn</td>\n",
       "      <td>American</td>\n",
       "      <td>[{'date': 2014-10-29 00:00:00, 'grade': 'C', '...</td>\n",
       "      <td>Georges Restaurant</td>\n",
       "      <td>41489694</td>\n",
       "    </tr>\n",
       "    <tr>\n",
       "      <th>7</th>\n",
       "      <td>62211e0487c5fc6629541e11</td>\n",
       "      <td>{'building': '163', 'coord': [-73.9516337, 40....</td>\n",
       "      <td>Brooklyn</td>\n",
       "      <td>American</td>\n",
       "      <td>[{'date': 2014-11-07 00:00:00, 'grade': 'Z', '...</td>\n",
       "      <td>Hope Garage</td>\n",
       "      <td>41683141</td>\n",
       "    </tr>\n",
       "    <tr>\n",
       "      <th>8</th>\n",
       "      <td>62211e0487c5fc6629541fe2</td>\n",
       "      <td>{'building': '364', 'coord': [-73.986417, 40.6...</td>\n",
       "      <td>Brooklyn</td>\n",
       "      <td>American</td>\n",
       "      <td>[{'date': 2014-05-22 00:00:00, 'grade': 'C', '...</td>\n",
       "      <td>Krescendo</td>\n",
       "      <td>41695265</td>\n",
       "    </tr>\n",
       "    <tr>\n",
       "      <th>9</th>\n",
       "      <td>62211e0487c5fc6629542012</td>\n",
       "      <td>{'building': '274', 'coord': [-73.984480699999...</td>\n",
       "      <td>Brooklyn</td>\n",
       "      <td>American</td>\n",
       "      <td>[{'date': 2014-08-20 00:00:00, 'grade': 'C', '...</td>\n",
       "      <td>Breuckelen Colony</td>\n",
       "      <td>41696147</td>\n",
       "    </tr>\n",
       "    <tr>\n",
       "      <th>10</th>\n",
       "      <td>62211e0487c5fc66295422f8</td>\n",
       "      <td>{'building': '8703', 'coord': [-74.0266106, 40...</td>\n",
       "      <td>Brooklyn</td>\n",
       "      <td>American</td>\n",
       "      <td>[{'date': 2014-08-27 00:00:00, 'grade': 'C', '...</td>\n",
       "      <td>Lone Star Bar &amp; Grill</td>\n",
       "      <td>41709379</td>\n",
       "    </tr>\n",
       "    <tr>\n",
       "      <th>11</th>\n",
       "      <td>62211e0487c5fc66295426e6</td>\n",
       "      <td>{'building': '2770', 'coord': [-73.8920089, 40...</td>\n",
       "      <td>Brooklyn</td>\n",
       "      <td>American</td>\n",
       "      <td>[{'date': 2015-01-03 00:00:00, 'grade': 'Z', '...</td>\n",
       "      <td>Zamba Rios</td>\n",
       "      <td>50000604</td>\n",
       "    </tr>\n",
       "    <tr>\n",
       "      <th>12</th>\n",
       "      <td>62211e0487c5fc6629542913</td>\n",
       "      <td>{'building': '4922', 'coord': [-73.998425, 40....</td>\n",
       "      <td>Brooklyn</td>\n",
       "      <td>American</td>\n",
       "      <td>[{'date': 2014-10-30 00:00:00, 'grade': 'C', '...</td>\n",
       "      <td>Mixxed Grill And Juice Bar</td>\n",
       "      <td>50001585</td>\n",
       "    </tr>\n",
       "    <tr>\n",
       "      <th>13</th>\n",
       "      <td>62211e0487c5fc6629542a7e</td>\n",
       "      <td>{'building': '375', 'coord': [-73.9844202, 40....</td>\n",
       "      <td>Brooklyn</td>\n",
       "      <td>American</td>\n",
       "      <td>[{'date': 2014-11-18 00:00:00, 'grade': 'Z', '...</td>\n",
       "      <td>Bar Reis</td>\n",
       "      <td>50002249</td>\n",
       "    </tr>\n",
       "    <tr>\n",
       "      <th>14</th>\n",
       "      <td>62211e0587c5fc66295435a0</td>\n",
       "      <td>{'building': '470', 'coord': [-73.9502179, 40....</td>\n",
       "      <td>Brooklyn</td>\n",
       "      <td>American</td>\n",
       "      <td>[{'date': 2014-08-21 00:00:00, 'grade': 'C', '...</td>\n",
       "      <td>Crown Chicken Pizza &amp; Coffee Shop</td>\n",
       "      <td>50011140</td>\n",
       "    </tr>\n",
       "    <tr>\n",
       "      <th>15</th>\n",
       "      <td>62211e0587c5fc6629543a01</td>\n",
       "      <td>{'building': '644', 'coord': [-73.983603, 40.6...</td>\n",
       "      <td>Brooklyn</td>\n",
       "      <td>American</td>\n",
       "      <td>[{'date': 2015-01-20 00:00:00, 'grade': 'Not Y...</td>\n",
       "      <td>Lucky 13 Saloon</td>\n",
       "      <td>50015155</td>\n",
       "    </tr>\n",
       "    <tr>\n",
       "      <th>16</th>\n",
       "      <td>62211e0587c5fc6629543c7c</td>\n",
       "      <td>{'building': '632', 'coord': [-73.950664, 40.7...</td>\n",
       "      <td>Brooklyn</td>\n",
       "      <td>American</td>\n",
       "      <td>[{'date': 2014-12-31 00:00:00, 'grade': 'Z', '...</td>\n",
       "      <td>The Manhattan Inn</td>\n",
       "      <td>50016984</td>\n",
       "    </tr>\n",
       "  </tbody>\n",
       "</table>\n",
       "</div>"
      ],
      "text/plain": [
       "                         _id  \\\n",
       "0   62211e0487c5fc662953e1c1   \n",
       "1   62211e0487c5fc662953ea8c   \n",
       "2   62211e0487c5fc662953fb84   \n",
       "3   62211e0487c5fc66295401d9   \n",
       "4   62211e0487c5fc66295404d1   \n",
       "5   62211e0487c5fc6629540535   \n",
       "6   62211e0487c5fc6629540a2a   \n",
       "7   62211e0487c5fc6629541e11   \n",
       "8   62211e0487c5fc6629541fe2   \n",
       "9   62211e0487c5fc6629542012   \n",
       "10  62211e0487c5fc66295422f8   \n",
       "11  62211e0487c5fc66295426e6   \n",
       "12  62211e0487c5fc6629542913   \n",
       "13  62211e0487c5fc6629542a7e   \n",
       "14  62211e0587c5fc66295435a0   \n",
       "15  62211e0587c5fc6629543a01   \n",
       "16  62211e0587c5fc6629543c7c   \n",
       "\n",
       "                                              address   borough   cuisine  \\\n",
       "0   {'building': '147', 'coord': [-74.000705000000...  Brooklyn  American   \n",
       "1   {'building': '8801', 'coord': [-74.0314075, 40...  Brooklyn  American   \n",
       "2   {'building': '108', 'coord': [-73.960308, 40.7...  Brooklyn  American   \n",
       "3   {'building': '6', 'coord': [-73.9809756, 40.68...  Brooklyn  American   \n",
       "4   {'building': '109', 'coord': [-73.9641287, 40....  Brooklyn  American   \n",
       "5   {'building': '9522', 'coord': [-74.03155509999...  Brooklyn  American   \n",
       "6   {'building': '753', 'coord': [-73.9684436, 40....  Brooklyn  American   \n",
       "7   {'building': '163', 'coord': [-73.9516337, 40....  Brooklyn  American   \n",
       "8   {'building': '364', 'coord': [-73.986417, 40.6...  Brooklyn  American   \n",
       "9   {'building': '274', 'coord': [-73.984480699999...  Brooklyn  American   \n",
       "10  {'building': '8703', 'coord': [-74.0266106, 40...  Brooklyn  American   \n",
       "11  {'building': '2770', 'coord': [-73.8920089, 40...  Brooklyn  American   \n",
       "12  {'building': '4922', 'coord': [-73.998425, 40....  Brooklyn  American   \n",
       "13  {'building': '375', 'coord': [-73.9844202, 40....  Brooklyn  American   \n",
       "14  {'building': '470', 'coord': [-73.9502179, 40....  Brooklyn  American   \n",
       "15  {'building': '644', 'coord': [-73.983603, 40.6...  Brooklyn  American   \n",
       "16  {'building': '632', 'coord': [-73.950664, 40.7...  Brooklyn  American   \n",
       "\n",
       "                                               grades  \\\n",
       "0   [{'date': 2014-10-22 00:00:00, 'grade': 'C', '...   \n",
       "1   [{'date': 2014-12-13 00:00:00, 'grade': 'Z', '...   \n",
       "2   [{'date': 2014-11-20 00:00:00, 'grade': 'C', '...   \n",
       "3   [{'date': 2014-10-09 00:00:00, 'grade': 'C', '...   \n",
       "4   [{'date': 2015-01-05 00:00:00, 'grade': 'Z', '...   \n",
       "5   [{'date': 2015-01-02 00:00:00, 'grade': 'Z', '...   \n",
       "6   [{'date': 2014-10-29 00:00:00, 'grade': 'C', '...   \n",
       "7   [{'date': 2014-11-07 00:00:00, 'grade': 'Z', '...   \n",
       "8   [{'date': 2014-05-22 00:00:00, 'grade': 'C', '...   \n",
       "9   [{'date': 2014-08-20 00:00:00, 'grade': 'C', '...   \n",
       "10  [{'date': 2014-08-27 00:00:00, 'grade': 'C', '...   \n",
       "11  [{'date': 2015-01-03 00:00:00, 'grade': 'Z', '...   \n",
       "12  [{'date': 2014-10-30 00:00:00, 'grade': 'C', '...   \n",
       "13  [{'date': 2014-11-18 00:00:00, 'grade': 'Z', '...   \n",
       "14  [{'date': 2014-08-21 00:00:00, 'grade': 'C', '...   \n",
       "15  [{'date': 2015-01-20 00:00:00, 'grade': 'Not Y...   \n",
       "16  [{'date': 2014-12-31 00:00:00, 'grade': 'Z', '...   \n",
       "\n",
       "                                 name restaurant_id  \n",
       "0               Quick Stop Restaurant      40401019  \n",
       "1                                Cebu      40859014  \n",
       "2                         This & That      41294998  \n",
       "3                        Fulton Grill      41389547  \n",
       "4                      Gordon Bennett      41427008  \n",
       "5                         Energy Fuel      41431231  \n",
       "6                  Georges Restaurant      41489694  \n",
       "7                         Hope Garage      41683141  \n",
       "8                           Krescendo      41695265  \n",
       "9                   Breuckelen Colony      41696147  \n",
       "10              Lone Star Bar & Grill      41709379  \n",
       "11                         Zamba Rios      50000604  \n",
       "12         Mixxed Grill And Juice Bar      50001585  \n",
       "13                           Bar Reis      50002249  \n",
       "14  Crown Chicken Pizza & Coffee Shop      50011140  \n",
       "15                    Lucky 13 Saloon      50015155  \n",
       "16                  The Manhattan Inn      50016984  "
      ]
     },
     "execution_count": 13,
     "metadata": {},
     "output_type": "execute_result"
    }
   ],
   "source": [
    "# display restaurant dataframe\n",
    "df_rest"
   ]
  },
  {
   "cell_type": "code",
   "execution_count": 14,
   "metadata": {},
   "outputs": [],
   "source": [
    "# create list of scores from grades column \n",
    "# list of the scores of the 17 top American Restaurants in Brooklyn \n",
    "scores = []\n",
    "i = 0\n",
    "while i<17:\n",
    "    scores.append(df_rest[\"grades\"][i][0].get(\"score\"))\n",
    "    i = i + 1"
   ]
  },
  {
   "cell_type": "code",
   "execution_count": 15,
   "metadata": {},
   "outputs": [
    {
     "data": {
      "text/plain": [
       "17"
      ]
     },
     "execution_count": 15,
     "metadata": {},
     "output_type": "execute_result"
    }
   ],
   "source": [
    "# confirming there are 17 scores in list\n",
    "len(scores)"
   ]
  },
  {
   "cell_type": "code",
   "execution_count": 16,
   "metadata": {},
   "outputs": [
    {
     "data": {
      "text/plain": [
       "[31, 43, 32, 51, 35, 31, 40, 36, 35, 38, 39, 53, 31, 49, 41, 36, 40]"
      ]
     },
     "execution_count": 16,
     "metadata": {},
     "output_type": "execute_result"
    }
   ],
   "source": [
    "scores"
   ]
  },
  {
   "cell_type": "code",
   "execution_count": 17,
   "metadata": {},
   "outputs": [
    {
     "data": {
      "text/plain": [
       "<BarContainer object of 17 artists>"
      ]
     },
     "execution_count": 17,
     "metadata": {},
     "output_type": "execute_result"
    },
    {
     "data": {
      "image/png": "[encoded data removed]",
      "text/plain": [
       "<Figure size 1080x720 with 1 Axes>"
      ]
     },
     "metadata": {
      "needs_background": "light"
     },
     "output_type": "display_data"
    }
   ],
   "source": [
    "# ploting name of restaurant and score\n",
    "plt.figure(figsize=(15,10))\n",
    "plt.xticks(rotation=90)\n",
    "plt.bar(df_rest[\"name\"], scores)"
   ]
  },
  {
   "cell_type": "markdown",
   "metadata": {},
   "source": [
    "The above graph visualizes the scores of the top 17 American restaurants located in the borough of Brooklyn in New York. This visualization reveals that there are about 3 or 4 American restaurants in Brooklyn with high scores that stand out from the rest. Futhermore, since this dataset is so large, being able to view a simple comparison of the scores of the top American restaurants in Brooklyn like this one reveals something that one wouldn't be able to see by looking at the raw dataset. Below I have included a similar graph that visualizes the scores top American Restaurants in Manhattan. I think these two graphs used together could be more helpful as someone can use them to compare the scores of the best American restaurants in these two boroughs. According to these 2 graphs, it looks like Manhattan has higher rating American restaurants than Brooklyn does. "
   ]
  },
  {
   "cell_type": "code",
   "execution_count": 18,
   "metadata": {},
   "outputs": [],
   "source": [
    "ManhattanAmericanRestaurantsOver30 = collection.find({\"cuisine\":\"American\",\"borough\":\"Manhattan\", \"grades.0.score\":{\"$gt\":35}})\n",
    "\n"
   ]
  },
  {
   "cell_type": "code",
   "execution_count": 19,
   "metadata": {},
   "outputs": [],
   "source": [
    "ManhattanRestaurants = []\n",
    "for x in ManhattanAmericanRestaurantsOver30:\n",
    "    ManhattanRestaurants.append(x)"
   ]
  },
  {
   "cell_type": "code",
   "execution_count": 20,
   "metadata": {},
   "outputs": [
    {
     "data": {
      "text/plain": [
       "35"
      ]
     },
     "execution_count": 20,
     "metadata": {},
     "output_type": "execute_result"
    }
   ],
   "source": [
    "len(ManhattanRestaurants)"
   ]
  },
  {
   "cell_type": "code",
   "execution_count": 21,
   "metadata": {},
   "outputs": [],
   "source": [
    "df_rest_manhattan = pd.DataFrame(ManhattanRestaurants)"
   ]
  },
  {
   "cell_type": "code",
   "execution_count": 22,
   "metadata": {},
   "outputs": [],
   "source": [
    "manhattan_scores = []\n",
    "i = 0\n",
    "while i<35:\n",
    "    manhattan_scores.append(df_rest_manhattan[\"grades\"][i][0].get(\"score\"))\n",
    "    i = i + 1"
   ]
  },
  {
   "cell_type": "code",
   "execution_count": 23,
   "metadata": {},
   "outputs": [
    {
     "data": {
      "text/plain": [
       "[31, 43, 32, 51, 35, 31, 40, 36, 35, 38, 39, 53, 31, 49, 41, 36, 40]"
      ]
     },
     "execution_count": 23,
     "metadata": {},
     "output_type": "execute_result"
    }
   ],
   "source": [
    "scores"
   ]
  },
  {
   "cell_type": "code",
   "execution_count": 24,
   "metadata": {},
   "outputs": [
    {
     "data": {
      "text/plain": [
       "35"
      ]
     },
     "execution_count": 24,
     "metadata": {},
     "output_type": "execute_result"
    }
   ],
   "source": [
    "len(manhattan_scores)"
   ]
  },
  {
   "cell_type": "code",
   "execution_count": 25,
   "metadata": {},
   "outputs": [
    {
     "data": {
      "text/plain": [
       "<BarContainer object of 35 artists>"
      ]
     },
     "execution_count": 25,
     "metadata": {},
     "output_type": "execute_result"
    },
    {
     "data": {
      "image/png": "[encoded data removed]",
      "text/plain": [
       "<Figure size 1080x720 with 1 Axes>"
      ]
     },
     "metadata": {
      "needs_background": "light"
     },
     "output_type": "display_data"
    }
   ],
   "source": [
    "plt.figure(figsize=(15,10))\n",
    "plt.xticks(rotation=90)\n",
    "plt.bar(df_rest_manhattan[\"name\"], manhattan_scores)"
   ]
  },
  {
   "cell_type": "code",
   "execution_count": null,
   "metadata": {},
   "outputs": [],
   "source": []
  }
 ],
 "metadata": {
  "kernelspec": {
   "display_name": "Python 3",
   "language": "python",
   "name": "python3"
  },
  "language_info": {
   "codemirror_mode": {
    "name": "ipython",
    "version": 3
   },
   "file_extension": ".py",
   "mimetype": "text/x-python",
   "name": "python",
   "nbconvert_exporter": "python",
   "pygments_lexer": "ipython3",
   "version": "3.8.5"
  }
 },
 "nbformat": 4,
 "nbformat_minor": 4
}
